{
 "cells": [
  {
   "cell_type": "code",
   "execution_count": 1,
   "id": "c73fce8f",
   "metadata": {},
   "outputs": [
    {
     "name": "stderr",
     "output_type": "stream",
     "text": [
      "/usr/local/lib/python3.6/dist-packages/tensorflow/python/framework/dtypes.py:516: FutureWarning: Passing (type, 1) or '1type' as a synonym of type is deprecated; in a future version of numpy, it will be understood as (type, (1,)) / '(1,)type'.\n",
      "  _np_qint8 = np.dtype([(\"qint8\", np.int8, 1)])\n",
      "/usr/local/lib/python3.6/dist-packages/tensorflow/python/framework/dtypes.py:517: FutureWarning: Passing (type, 1) or '1type' as a synonym of type is deprecated; in a future version of numpy, it will be understood as (type, (1,)) / '(1,)type'.\n",
      "  _np_quint8 = np.dtype([(\"quint8\", np.uint8, 1)])\n",
      "/usr/local/lib/python3.6/dist-packages/tensorflow/python/framework/dtypes.py:518: FutureWarning: Passing (type, 1) or '1type' as a synonym of type is deprecated; in a future version of numpy, it will be understood as (type, (1,)) / '(1,)type'.\n",
      "  _np_qint16 = np.dtype([(\"qint16\", np.int16, 1)])\n",
      "/usr/local/lib/python3.6/dist-packages/tensorflow/python/framework/dtypes.py:519: FutureWarning: Passing (type, 1) or '1type' as a synonym of type is deprecated; in a future version of numpy, it will be understood as (type, (1,)) / '(1,)type'.\n",
      "  _np_quint16 = np.dtype([(\"quint16\", np.uint16, 1)])\n",
      "/usr/local/lib/python3.6/dist-packages/tensorflow/python/framework/dtypes.py:520: FutureWarning: Passing (type, 1) or '1type' as a synonym of type is deprecated; in a future version of numpy, it will be understood as (type, (1,)) / '(1,)type'.\n",
      "  _np_qint32 = np.dtype([(\"qint32\", np.int32, 1)])\n",
      "/usr/local/lib/python3.6/dist-packages/tensorflow/python/framework/dtypes.py:525: FutureWarning: Passing (type, 1) or '1type' as a synonym of type is deprecated; in a future version of numpy, it will be understood as (type, (1,)) / '(1,)type'.\n",
      "  np_resource = np.dtype([(\"resource\", np.ubyte, 1)])\n"
     ]
    },
    {
     "name": "stdout",
     "output_type": "stream",
     "text": [
      "['[CLS]', '我', '爱', '北', '京', '天', '安', '门', '112', '但', '是', 'lover', 'cap', '##co', '##ol', '[SEP]']\n",
      "WARNING:tensorflow:From /usr/local/lib/python3.6/dist-packages/keras/backend/tensorflow_backend.py:517: The name tf.placeholder is deprecated. Please use tf.compat.v1.placeholder instead.\n",
      "\n",
      "WARNING:tensorflow:From /usr/local/lib/python3.6/dist-packages/keras/backend/tensorflow_backend.py:4185: The name tf.truncated_normal is deprecated. Please use tf.random.truncated_normal instead.\n",
      "\n"
     ]
    },
    {
     "name": "stderr",
     "output_type": "stream",
     "text": [
      "/usr/local/lib/python3.6/dist-packages/tensorboard/compat/tensorflow_stub/dtypes.py:541: FutureWarning: Passing (type, 1) or '1type' as a synonym of type is deprecated; in a future version of numpy, it will be understood as (type, (1,)) / '(1,)type'.\n",
      "  _np_qint8 = np.dtype([(\"qint8\", np.int8, 1)])\n",
      "/usr/local/lib/python3.6/dist-packages/tensorboard/compat/tensorflow_stub/dtypes.py:542: FutureWarning: Passing (type, 1) or '1type' as a synonym of type is deprecated; in a future version of numpy, it will be understood as (type, (1,)) / '(1,)type'.\n",
      "  _np_quint8 = np.dtype([(\"quint8\", np.uint8, 1)])\n",
      "/usr/local/lib/python3.6/dist-packages/tensorboard/compat/tensorflow_stub/dtypes.py:543: FutureWarning: Passing (type, 1) or '1type' as a synonym of type is deprecated; in a future version of numpy, it will be understood as (type, (1,)) / '(1,)type'.\n",
      "  _np_qint16 = np.dtype([(\"qint16\", np.int16, 1)])\n",
      "/usr/local/lib/python3.6/dist-packages/tensorboard/compat/tensorflow_stub/dtypes.py:544: FutureWarning: Passing (type, 1) or '1type' as a synonym of type is deprecated; in a future version of numpy, it will be understood as (type, (1,)) / '(1,)type'.\n",
      "  _np_quint16 = np.dtype([(\"quint16\", np.uint16, 1)])\n",
      "/usr/local/lib/python3.6/dist-packages/tensorboard/compat/tensorflow_stub/dtypes.py:545: FutureWarning: Passing (type, 1) or '1type' as a synonym of type is deprecated; in a future version of numpy, it will be understood as (type, (1,)) / '(1,)type'.\n",
      "  _np_qint32 = np.dtype([(\"qint32\", np.int32, 1)])\n",
      "/usr/local/lib/python3.6/dist-packages/tensorboard/compat/tensorflow_stub/dtypes.py:550: FutureWarning: Passing (type, 1) or '1type' as a synonym of type is deprecated; in a future version of numpy, it will be understood as (type, (1,)) / '(1,)type'.\n",
      "  np_resource = np.dtype([(\"resource\", np.ubyte, 1)])\n",
      "Using TensorFlow backend.\n"
     ]
    },
    {
     "name": "stdout",
     "output_type": "stream",
     "text": [
      "WARNING:tensorflow:From /usr/local/lib/python3.6/dist-packages/keras/backend/tensorflow_backend.py:131: The name tf.get_default_graph is deprecated. Please use tf.compat.v1.get_default_graph instead.\n",
      "\n",
      "WARNING:tensorflow:From /usr/local/lib/python3.6/dist-packages/keras/backend/tensorflow_backend.py:133: The name tf.placeholder_with_default is deprecated. Please use tf.compat.v1.placeholder_with_default instead.\n",
      "\n",
      "WARNING:tensorflow:From /usr/local/lib/python3.6/dist-packages/keras/backend/tensorflow_backend.py:3445: calling dropout (from tensorflow.python.ops.nn_ops) with keep_prob is deprecated and will be removed in a future version.\n",
      "Instructions for updating:\n",
      "Please use `rate` instead of `keep_prob`. Rate should be set to `rate = 1 - keep_prob`.\n",
      "WARNING:tensorflow:From /usr/local/lib/python3.6/dist-packages/keras/backend/tensorflow_backend.py:174: The name tf.get_default_session is deprecated. Please use tf.compat.v1.get_default_session instead.\n",
      "\n",
      "__________________________________________________________________________________________________\n",
      "Layer (type)                    Output Shape         Param #     Connected to                     \n",
      "==================================================================================================\n",
      "Input-Token (InputLayer)        (None, None)         0                                            \n",
      "__________________________________________________________________________________________________\n",
      "Input-Segment (InputLayer)      (None, None)         0                                            \n",
      "__________________________________________________________________________________________________\n",
      "Embedding-Token (Embedding)     (None, None, 768)    23440896    Input-Token[0][0]                \n",
      "__________________________________________________________________________________________________\n",
      "Embedding-Segment (Embedding)   (None, None, 768)    1536        Input-Segment[0][0]              \n",
      "__________________________________________________________________________________________________\n",
      "Embedding-Token-Segment (Add)   (None, None, 768)    0           Embedding-Token[0][0]            \n",
      "                                                                 Embedding-Segment[0][0]          \n",
      "__________________________________________________________________________________________________\n",
      "Embedding-Position (PositionEmb (None, None, 768)    393216      Embedding-Token-Segment[0][0]    \n",
      "__________________________________________________________________________________________________\n",
      "Embedding-Norm (LayerNormalizat (None, None, 768)    1536        Embedding-Position[0][0]         \n",
      "__________________________________________________________________________________________________\n",
      "Embedding-Dropout (Dropout)     (None, None, 768)    0           Embedding-Norm[0][0]             \n",
      "__________________________________________________________________________________________________\n",
      "Transformer-0-MultiHeadSelfAtte (None, None, 768)    2362368     Embedding-Dropout[0][0]          \n",
      "                                                                 Embedding-Dropout[0][0]          \n",
      "                                                                 Embedding-Dropout[0][0]          \n",
      "__________________________________________________________________________________________________\n",
      "Transformer-0-MultiHeadSelfAtte (None, None, 768)    0           Transformer-0-MultiHeadSelfAttent\n",
      "__________________________________________________________________________________________________\n",
      "Transformer-0-MultiHeadSelfAtte (None, None, 768)    0           Embedding-Dropout[0][0]          \n",
      "                                                                 Transformer-0-MultiHeadSelfAttent\n",
      "__________________________________________________________________________________________________\n",
      "Transformer-0-MultiHeadSelfAtte (None, None, 768)    1536        Transformer-0-MultiHeadSelfAttent\n",
      "__________________________________________________________________________________________________\n",
      "Transformer-0-FeedForward (Feed (None, None, 768)    4722432     Transformer-0-MultiHeadSelfAttent\n",
      "__________________________________________________________________________________________________\n",
      "Transformer-0-FeedForward-Dropo (None, None, 768)    0           Transformer-0-FeedForward[0][0]  \n",
      "__________________________________________________________________________________________________\n",
      "Transformer-0-FeedForward-Add ( (None, None, 768)    0           Transformer-0-MultiHeadSelfAttent\n",
      "                                                                 Transformer-0-FeedForward-Dropout\n",
      "__________________________________________________________________________________________________\n",
      "Transformer-0-FeedForward-Norm  (None, None, 768)    1536        Transformer-0-FeedForward-Add[0][\n",
      "__________________________________________________________________________________________________\n",
      "Transformer-1-MultiHeadSelfAtte (None, None, 768)    2362368     Transformer-0-FeedForward-Norm[0]\n",
      "                                                                 Transformer-0-FeedForward-Norm[0]\n",
      "                                                                 Transformer-0-FeedForward-Norm[0]\n",
      "__________________________________________________________________________________________________\n",
      "Transformer-1-MultiHeadSelfAtte (None, None, 768)    0           Transformer-1-MultiHeadSelfAttent\n",
      "__________________________________________________________________________________________________\n",
      "Transformer-1-MultiHeadSelfAtte (None, None, 768)    0           Transformer-0-FeedForward-Norm[0]\n",
      "                                                                 Transformer-1-MultiHeadSelfAttent\n",
      "__________________________________________________________________________________________________\n",
      "Transformer-1-MultiHeadSelfAtte (None, None, 768)    1536        Transformer-1-MultiHeadSelfAttent\n",
      "__________________________________________________________________________________________________\n",
      "Transformer-1-FeedForward (Feed (None, None, 768)    4722432     Transformer-1-MultiHeadSelfAttent\n",
      "__________________________________________________________________________________________________\n",
      "Transformer-1-FeedForward-Dropo (None, None, 768)    0           Transformer-1-FeedForward[0][0]  \n",
      "__________________________________________________________________________________________________\n",
      "Transformer-1-FeedForward-Add ( (None, None, 768)    0           Transformer-1-MultiHeadSelfAttent\n",
      "                                                                 Transformer-1-FeedForward-Dropout\n",
      "__________________________________________________________________________________________________\n",
      "Transformer-1-FeedForward-Norm  (None, None, 768)    1536        Transformer-1-FeedForward-Add[0][\n",
      "__________________________________________________________________________________________________\n",
      "Transformer-2-MultiHeadSelfAtte (None, None, 768)    2362368     Transformer-1-FeedForward-Norm[0]\n",
      "                                                                 Transformer-1-FeedForward-Norm[0]\n",
      "                                                                 Transformer-1-FeedForward-Norm[0]\n",
      "__________________________________________________________________________________________________\n",
      "Transformer-2-MultiHeadSelfAtte (None, None, 768)    0           Transformer-2-MultiHeadSelfAttent\n",
      "__________________________________________________________________________________________________\n",
      "Transformer-2-MultiHeadSelfAtte (None, None, 768)    0           Transformer-1-FeedForward-Norm[0]\n",
      "                                                                 Transformer-2-MultiHeadSelfAttent\n",
      "__________________________________________________________________________________________________\n",
      "Transformer-2-MultiHeadSelfAtte (None, None, 768)    1536        Transformer-2-MultiHeadSelfAttent\n",
      "__________________________________________________________________________________________________\n",
      "Transformer-2-FeedForward (Feed (None, None, 768)    4722432     Transformer-2-MultiHeadSelfAttent\n",
      "__________________________________________________________________________________________________\n",
      "Transformer-2-FeedForward-Dropo (None, None, 768)    0           Transformer-2-FeedForward[0][0]  \n",
      "__________________________________________________________________________________________________\n",
      "Transformer-2-FeedForward-Add ( (None, None, 768)    0           Transformer-2-MultiHeadSelfAttent\n",
      "                                                                 Transformer-2-FeedForward-Dropout\n",
      "__________________________________________________________________________________________________\n",
      "Transformer-2-FeedForward-Norm  (None, None, 768)    1536        Transformer-2-FeedForward-Add[0][\n",
      "__________________________________________________________________________________________________\n",
      "Transformer-3-MultiHeadSelfAtte (None, None, 768)    2362368     Transformer-2-FeedForward-Norm[0]\n",
      "                                                                 Transformer-2-FeedForward-Norm[0]\n",
      "                                                                 Transformer-2-FeedForward-Norm[0]\n",
      "__________________________________________________________________________________________________\n",
      "Transformer-3-MultiHeadSelfAtte (None, None, 768)    0           Transformer-3-MultiHeadSelfAttent\n",
      "__________________________________________________________________________________________________\n",
      "Transformer-3-MultiHeadSelfAtte (None, None, 768)    0           Transformer-2-FeedForward-Norm[0]\n",
      "                                                                 Transformer-3-MultiHeadSelfAttent\n",
      "__________________________________________________________________________________________________\n",
      "Transformer-3-MultiHeadSelfAtte (None, None, 768)    1536        Transformer-3-MultiHeadSelfAttent\n",
      "__________________________________________________________________________________________________\n",
      "Transformer-3-FeedForward (Feed (None, None, 768)    4722432     Transformer-3-MultiHeadSelfAttent\n",
      "__________________________________________________________________________________________________\n",
      "Transformer-3-FeedForward-Dropo (None, None, 768)    0           Transformer-3-FeedForward[0][0]  \n",
      "__________________________________________________________________________________________________\n",
      "Transformer-3-FeedForward-Add ( (None, None, 768)    0           Transformer-3-MultiHeadSelfAttent\n",
      "                                                                 Transformer-3-FeedForward-Dropout\n",
      "__________________________________________________________________________________________________\n",
      "Transformer-3-FeedForward-Norm  (None, None, 768)    1536        Transformer-3-FeedForward-Add[0][\n",
      "__________________________________________________________________________________________________\n",
      "Transformer-4-MultiHeadSelfAtte (None, None, 768)    2362368     Transformer-3-FeedForward-Norm[0]\n",
      "                                                                 Transformer-3-FeedForward-Norm[0]\n",
      "                                                                 Transformer-3-FeedForward-Norm[0]\n",
      "__________________________________________________________________________________________________\n",
      "Transformer-4-MultiHeadSelfAtte (None, None, 768)    0           Transformer-4-MultiHeadSelfAttent\n",
      "__________________________________________________________________________________________________\n",
      "Transformer-4-MultiHeadSelfAtte (None, None, 768)    0           Transformer-3-FeedForward-Norm[0]\n",
      "                                                                 Transformer-4-MultiHeadSelfAttent\n",
      "__________________________________________________________________________________________________\n",
      "Transformer-4-MultiHeadSelfAtte (None, None, 768)    1536        Transformer-4-MultiHeadSelfAttent\n",
      "__________________________________________________________________________________________________\n",
      "Transformer-4-FeedForward (Feed (None, None, 768)    4722432     Transformer-4-MultiHeadSelfAttent\n",
      "__________________________________________________________________________________________________\n",
      "Transformer-4-FeedForward-Dropo (None, None, 768)    0           Transformer-4-FeedForward[0][0]  \n",
      "__________________________________________________________________________________________________\n",
      "Transformer-4-FeedForward-Add ( (None, None, 768)    0           Transformer-4-MultiHeadSelfAttent\n",
      "                                                                 Transformer-4-FeedForward-Dropout\n",
      "__________________________________________________________________________________________________\n",
      "Transformer-4-FeedForward-Norm  (None, None, 768)    1536        Transformer-4-FeedForward-Add[0][\n",
      "__________________________________________________________________________________________________\n",
      "Transformer-5-MultiHeadSelfAtte (None, None, 768)    2362368     Transformer-4-FeedForward-Norm[0]\n",
      "                                                                 Transformer-4-FeedForward-Norm[0]\n",
      "                                                                 Transformer-4-FeedForward-Norm[0]\n",
      "__________________________________________________________________________________________________\n",
      "Transformer-5-MultiHeadSelfAtte (None, None, 768)    0           Transformer-5-MultiHeadSelfAttent\n",
      "__________________________________________________________________________________________________\n",
      "Transformer-5-MultiHeadSelfAtte (None, None, 768)    0           Transformer-4-FeedForward-Norm[0]\n",
      "                                                                 Transformer-5-MultiHeadSelfAttent\n",
      "__________________________________________________________________________________________________\n",
      "Transformer-5-MultiHeadSelfAtte (None, None, 768)    1536        Transformer-5-MultiHeadSelfAttent\n",
      "__________________________________________________________________________________________________\n",
      "Transformer-5-FeedForward (Feed (None, None, 768)    4722432     Transformer-5-MultiHeadSelfAttent\n",
      "__________________________________________________________________________________________________\n",
      "Transformer-5-FeedForward-Dropo (None, None, 768)    0           Transformer-5-FeedForward[0][0]  \n",
      "__________________________________________________________________________________________________\n",
      "Transformer-5-FeedForward-Add ( (None, None, 768)    0           Transformer-5-MultiHeadSelfAttent\n",
      "                                                                 Transformer-5-FeedForward-Dropout\n",
      "__________________________________________________________________________________________________\n",
      "Transformer-5-FeedForward-Norm  (None, None, 768)    1536        Transformer-5-FeedForward-Add[0][\n",
      "__________________________________________________________________________________________________\n",
      "Transformer-6-MultiHeadSelfAtte (None, None, 768)    2362368     Transformer-5-FeedForward-Norm[0]\n",
      "                                                                 Transformer-5-FeedForward-Norm[0]\n",
      "                                                                 Transformer-5-FeedForward-Norm[0]\n",
      "__________________________________________________________________________________________________\n",
      "Transformer-6-MultiHeadSelfAtte (None, None, 768)    0           Transformer-6-MultiHeadSelfAttent\n",
      "__________________________________________________________________________________________________\n",
      "Transformer-6-MultiHeadSelfAtte (None, None, 768)    0           Transformer-5-FeedForward-Norm[0]\n",
      "                                                                 Transformer-6-MultiHeadSelfAttent\n",
      "__________________________________________________________________________________________________\n",
      "Transformer-6-MultiHeadSelfAtte (None, None, 768)    1536        Transformer-6-MultiHeadSelfAttent\n",
      "__________________________________________________________________________________________________\n",
      "Transformer-6-FeedForward (Feed (None, None, 768)    4722432     Transformer-6-MultiHeadSelfAttent\n",
      "__________________________________________________________________________________________________\n",
      "Transformer-6-FeedForward-Dropo (None, None, 768)    0           Transformer-6-FeedForward[0][0]  \n",
      "__________________________________________________________________________________________________\n",
      "Transformer-6-FeedForward-Add ( (None, None, 768)    0           Transformer-6-MultiHeadSelfAttent\n",
      "                                                                 Transformer-6-FeedForward-Dropout\n",
      "__________________________________________________________________________________________________\n",
      "Transformer-6-FeedForward-Norm  (None, None, 768)    1536        Transformer-6-FeedForward-Add[0][\n",
      "__________________________________________________________________________________________________\n",
      "Transformer-7-MultiHeadSelfAtte (None, None, 768)    2362368     Transformer-6-FeedForward-Norm[0]\n",
      "                                                                 Transformer-6-FeedForward-Norm[0]\n",
      "                                                                 Transformer-6-FeedForward-Norm[0]\n",
      "__________________________________________________________________________________________________\n",
      "Transformer-7-MultiHeadSelfAtte (None, None, 768)    0           Transformer-7-MultiHeadSelfAttent\n",
      "__________________________________________________________________________________________________\n",
      "Transformer-7-MultiHeadSelfAtte (None, None, 768)    0           Transformer-6-FeedForward-Norm[0]\n",
      "                                                                 Transformer-7-MultiHeadSelfAttent\n",
      "__________________________________________________________________________________________________\n",
      "Transformer-7-MultiHeadSelfAtte (None, None, 768)    1536        Transformer-7-MultiHeadSelfAttent\n",
      "__________________________________________________________________________________________________\n",
      "Transformer-7-FeedForward (Feed (None, None, 768)    4722432     Transformer-7-MultiHeadSelfAttent\n",
      "__________________________________________________________________________________________________\n",
      "Transformer-7-FeedForward-Dropo (None, None, 768)    0           Transformer-7-FeedForward[0][0]  \n",
      "__________________________________________________________________________________________________\n",
      "Transformer-7-FeedForward-Add ( (None, None, 768)    0           Transformer-7-MultiHeadSelfAttent\n",
      "                                                                 Transformer-7-FeedForward-Dropout\n",
      "__________________________________________________________________________________________________\n",
      "Transformer-7-FeedForward-Norm  (None, None, 768)    1536        Transformer-7-FeedForward-Add[0][\n",
      "__________________________________________________________________________________________________\n",
      "Transformer-8-MultiHeadSelfAtte (None, None, 768)    2362368     Transformer-7-FeedForward-Norm[0]\n",
      "                                                                 Transformer-7-FeedForward-Norm[0]\n",
      "                                                                 Transformer-7-FeedForward-Norm[0]\n",
      "__________________________________________________________________________________________________\n",
      "Transformer-8-MultiHeadSelfAtte (None, None, 768)    0           Transformer-8-MultiHeadSelfAttent\n",
      "__________________________________________________________________________________________________\n",
      "Transformer-8-MultiHeadSelfAtte (None, None, 768)    0           Transformer-7-FeedForward-Norm[0]\n",
      "                                                                 Transformer-8-MultiHeadSelfAttent\n",
      "__________________________________________________________________________________________________\n",
      "Transformer-8-MultiHeadSelfAtte (None, None, 768)    1536        Transformer-8-MultiHeadSelfAttent\n",
      "__________________________________________________________________________________________________\n",
      "Transformer-8-FeedForward (Feed (None, None, 768)    4722432     Transformer-8-MultiHeadSelfAttent\n",
      "__________________________________________________________________________________________________\n",
      "Transformer-8-FeedForward-Dropo (None, None, 768)    0           Transformer-8-FeedForward[0][0]  \n",
      "__________________________________________________________________________________________________\n",
      "Transformer-8-FeedForward-Add ( (None, None, 768)    0           Transformer-8-MultiHeadSelfAttent\n",
      "                                                                 Transformer-8-FeedForward-Dropout\n",
      "__________________________________________________________________________________________________\n",
      "Transformer-8-FeedForward-Norm  (None, None, 768)    1536        Transformer-8-FeedForward-Add[0][\n",
      "__________________________________________________________________________________________________\n",
      "Transformer-9-MultiHeadSelfAtte (None, None, 768)    2362368     Transformer-8-FeedForward-Norm[0]\n",
      "                                                                 Transformer-8-FeedForward-Norm[0]\n",
      "                                                                 Transformer-8-FeedForward-Norm[0]\n",
      "__________________________________________________________________________________________________\n",
      "Transformer-9-MultiHeadSelfAtte (None, None, 768)    0           Transformer-9-MultiHeadSelfAttent\n",
      "__________________________________________________________________________________________________\n",
      "Transformer-9-MultiHeadSelfAtte (None, None, 768)    0           Transformer-8-FeedForward-Norm[0]\n",
      "                                                                 Transformer-9-MultiHeadSelfAttent\n",
      "__________________________________________________________________________________________________\n",
      "Transformer-9-MultiHeadSelfAtte (None, None, 768)    1536        Transformer-9-MultiHeadSelfAttent\n",
      "__________________________________________________________________________________________________\n",
      "Transformer-9-FeedForward (Feed (None, None, 768)    4722432     Transformer-9-MultiHeadSelfAttent\n",
      "__________________________________________________________________________________________________\n",
      "Transformer-9-FeedForward-Dropo (None, None, 768)    0           Transformer-9-FeedForward[0][0]  \n",
      "__________________________________________________________________________________________________\n",
      "Transformer-9-FeedForward-Add ( (None, None, 768)    0           Transformer-9-MultiHeadSelfAttent\n",
      "                                                                 Transformer-9-FeedForward-Dropout\n",
      "__________________________________________________________________________________________________\n",
      "Transformer-9-FeedForward-Norm  (None, None, 768)    1536        Transformer-9-FeedForward-Add[0][\n",
      "__________________________________________________________________________________________________\n",
      "Transformer-10-MultiHeadSelfAtt (None, None, 768)    2362368     Transformer-9-FeedForward-Norm[0]\n",
      "                                                                 Transformer-9-FeedForward-Norm[0]\n",
      "                                                                 Transformer-9-FeedForward-Norm[0]\n",
      "__________________________________________________________________________________________________\n",
      "Transformer-10-MultiHeadSelfAtt (None, None, 768)    0           Transformer-10-MultiHeadSelfAtten\n",
      "__________________________________________________________________________________________________\n",
      "Transformer-10-MultiHeadSelfAtt (None, None, 768)    0           Transformer-9-FeedForward-Norm[0]\n",
      "                                                                 Transformer-10-MultiHeadSelfAtten\n",
      "__________________________________________________________________________________________________\n",
      "Transformer-10-MultiHeadSelfAtt (None, None, 768)    1536        Transformer-10-MultiHeadSelfAtten\n",
      "__________________________________________________________________________________________________\n",
      "Transformer-10-FeedForward (Fee (None, None, 768)    4722432     Transformer-10-MultiHeadSelfAtten\n",
      "__________________________________________________________________________________________________\n",
      "Transformer-10-FeedForward-Drop (None, None, 768)    0           Transformer-10-FeedForward[0][0] \n",
      "__________________________________________________________________________________________________\n",
      "Transformer-10-FeedForward-Add  (None, None, 768)    0           Transformer-10-MultiHeadSelfAtten\n",
      "                                                                 Transformer-10-FeedForward-Dropou\n",
      "__________________________________________________________________________________________________\n",
      "Transformer-10-FeedForward-Norm (None, None, 768)    1536        Transformer-10-FeedForward-Add[0]\n",
      "__________________________________________________________________________________________________\n",
      "Transformer-11-MultiHeadSelfAtt (None, None, 768)    2362368     Transformer-10-FeedForward-Norm[0\n",
      "                                                                 Transformer-10-FeedForward-Norm[0\n",
      "                                                                 Transformer-10-FeedForward-Norm[0\n",
      "__________________________________________________________________________________________________\n",
      "Transformer-11-MultiHeadSelfAtt (None, None, 768)    0           Transformer-11-MultiHeadSelfAtten\n",
      "__________________________________________________________________________________________________\n",
      "Transformer-11-MultiHeadSelfAtt (None, None, 768)    0           Transformer-10-FeedForward-Norm[0\n",
      "                                                                 Transformer-11-MultiHeadSelfAtten\n",
      "__________________________________________________________________________________________________\n",
      "Transformer-11-MultiHeadSelfAtt (None, None, 768)    1536        Transformer-11-MultiHeadSelfAtten\n",
      "__________________________________________________________________________________________________\n",
      "Transformer-11-FeedForward (Fee (None, None, 768)    4722432     Transformer-11-MultiHeadSelfAtten\n",
      "__________________________________________________________________________________________________\n",
      "Transformer-11-FeedForward-Drop (None, None, 768)    0           Transformer-11-FeedForward[0][0] \n",
      "__________________________________________________________________________________________________\n",
      "Transformer-11-FeedForward-Add  (None, None, 768)    0           Transformer-11-MultiHeadSelfAtten\n",
      "                                                                 Transformer-11-FeedForward-Dropou\n",
      "__________________________________________________________________________________________________\n",
      "Transformer-11-FeedForward-Norm (None, None, 768)    1536        Transformer-11-FeedForward-Add[0]\n",
      "__________________________________________________________________________________________________\n",
      "dense_73 (Dense)                (None, None, 131)    100739      Transformer-11-FeedForward-Norm[0\n",
      "__________________________________________________________________________________________________\n",
      "conditional_random_field_1 (Con (None, None, 131)    17161       dense_73[0][0]                   \n",
      "==================================================================================================\n",
      "Total params: 109,009,548\n",
      "Trainable params: 109,009,548\n",
      "Non-trainable params: 0\n",
      "__________________________________________________________________________________________________\n",
      "WARNING:tensorflow:From /usr/local/lib/python3.6/dist-packages/keras/optimizers.py:790: The name tf.train.Optimizer is deprecated. Please use tf.compat.v1.train.Optimizer instead.\n",
      "\n"
     ]
    },
    {
     "name": "stdout",
     "output_type": "stream",
     "text": [
      "WARNING:tensorflow:From /usr/local/lib/python3.6/dist-packages/tensorflow/python/ops/math_ops.py:2403: add_dispatch_support.<locals>.wrapper (from tensorflow.python.ops.array_ops) is deprecated and will be removed in a future version.\n",
      "Instructions for updating:\n",
      "Use tf.where in 2.0, which has the same broadcast rule as np.where\n",
      "Epoch 1/20\n",
      "917/917 [==============================] - 460s 502ms/step - loss: 25.4139 - sparse_accuracy: 0.9428\n"
     ]
    },
    {
     "name": "stderr",
     "output_type": "stream",
     "text": [
      "\r\n",
      "  0%|                                                                       | 0/924 [00:00<?, ?it/s]"
     ]
    },
    {
     "name": "stdout",
     "output_type": "stream",
     "text": [
      "[[ 0.8353822   0.4963065  -5.9726152  ... -4.4252577  -1.9479613\n",
      "  -4.1316137 ]\n",
      " [-1.3034465  -2.3174293   3.1927528  ... -2.0892045  -1.3248355\n",
      "  -1.4311372 ]\n",
      " [-1.6146537  -2.4670663   2.752969   ... -1.5953325  -0.9466359\n",
      "  -1.2444167 ]\n",
      " ...\n",
      " [-1.2570583  -0.50131786 -1.5651995  ...  1.0900292  -0.4133811\n",
      "  -0.5150685 ]\n",
      " [-2.5776675  -0.85704976 -2.0820339  ... -0.7450795  -0.63497204\n",
      "   1.6694288 ]\n",
      " [-1.3064411  -0.61364514 -1.1849779  ... -0.49986055 -0.47843918\n",
      "   1.2378445 ]]\n"
     ]
    },
    {
     "name": "stderr",
     "output_type": "stream",
     "text": [
      "100%|█████████████████████████████████████████████████████████████| 924/924 [00:40<00:00, 22.73it/s]\n"
     ]
    },
    {
     "name": "stdout",
     "output_type": "stream",
     "text": [
      "valid:  f1: 0.06398, precision: 0.15466, recall: 0.04033, best f1: 0.06398\n",
      "\n",
      "Epoch 2/20\n",
      "917/917 [==============================] - 440s 480ms/step - loss: 12.6391 - sparse_accuracy: 0.9175\n"
     ]
    },
    {
     "name": "stderr",
     "output_type": "stream",
     "text": [
      "  0%|▎                                                              | 4/924 [00:00<00:27, 33.77it/s]"
     ]
    },
    {
     "name": "stdout",
     "output_type": "stream",
     "text": [
      "[[ 1.0232314   0.1385445  -7.0065074  ... -6.0388517  -1.6797018\n",
      "  -5.852835  ]\n",
      " [-1.4339104  -4.209654    3.1057916  ... -3.4868257  -1.8138869\n",
      "  -2.7678516 ]\n",
      " [-2.0123012  -4.027288    2.9896011  ... -2.9062665  -1.4270574\n",
      "  -2.4390814 ]\n",
      " ...\n",
      " [-1.3344138  -0.8761468  -2.262425   ...  2.6628473  -0.5476984\n",
      "  -0.9936479 ]\n",
      " [-3.2662978  -1.6278719  -3.0796163  ... -1.9364322  -0.92964804\n",
      "   3.4398587 ]\n",
      " [-1.1822882  -0.8265537  -1.627996   ... -0.82962805 -0.53877544\n",
      "   2.6976066 ]]\n"
     ]
    },
    {
     "name": "stderr",
     "output_type": "stream",
     "text": [
      "100%|█████████████████████████████████████████████████████████████| 924/924 [00:33<00:00, 27.83it/s]\n"
     ]
    },
    {
     "name": "stdout",
     "output_type": "stream",
     "text": [
      "valid:  f1: 0.12749, precision: 0.32519, recall: 0.07929, best f1: 0.12749\n",
      "\n",
      "Epoch 3/20\n",
      "917/917 [==============================] - 441s 481ms/step - loss: 9.4943 - sparse_accuracy: 0.9087\n"
     ]
    },
    {
     "name": "stderr",
     "output_type": "stream",
     "text": [
      "  0%|▎                                                              | 4/924 [00:00<00:28, 32.55it/s]"
     ]
    },
    {
     "name": "stdout",
     "output_type": "stream",
     "text": [
      "[[ 1.1364356  -0.14836878 -7.6284986  ... -6.9800353  -1.534511\n",
      "  -6.882909  ]\n",
      " [-1.81876    -5.558899    3.1844537  ... -4.302057   -2.2731626\n",
      "  -3.7669692 ]\n",
      " [-2.0657105  -5.1122074   3.0613086  ... -3.6420844  -1.8282212\n",
      "  -3.3167408 ]\n",
      " ...\n",
      " [-1.6707951  -1.3760492  -2.9101691  ...  3.777193   -0.8366074\n",
      "  -1.8734207 ]\n",
      " [-3.2391841  -2.337716   -3.7079852  ... -2.8588493  -1.3103504\n",
      "   3.8655577 ]\n",
      " [-1.5494905  -1.246971   -2.1444829  ... -1.4766455  -0.71360844\n",
      "   4.238724  ]]\n"
     ]
    },
    {
     "name": "stderr",
     "output_type": "stream",
     "text": [
      "100%|█████████████████████████████████████████████████████████████| 924/924 [00:40<00:00, 18.53it/s]\n"
     ]
    },
    {
     "name": "stdout",
     "output_type": "stream",
     "text": [
      "valid:  f1: 0.25022, precision: 0.35587, recall: 0.19294, best f1: 0.25022\n",
      "\n",
      "Epoch 4/20\n",
      "917/917 [==============================] - 437s 476ms/step - loss: 7.3421 - sparse_accuracy: 0.9103\n"
     ]
    },
    {
     "name": "stderr",
     "output_type": "stream",
     "text": [
      "  0%|▎                                                              | 4/924 [00:00<00:27, 33.73it/s]"
     ]
    },
    {
     "name": "stdout",
     "output_type": "stream",
     "text": [
      "[[ 1.2356973e+00  6.4907591e-03 -8.0711908e+00 ... -7.6112003e+00\n",
      "  -1.7199430e+00 -7.6358695e+00]\n",
      " [-1.7426751e+00 -6.6201844e+00  3.1870630e+00 ... -4.7987380e+00\n",
      "  -2.7253838e+00 -4.5440655e+00]\n",
      " [-2.0996013e+00 -6.0461998e+00  3.1553874e+00 ... -4.0827765e+00\n",
      "  -2.2062883e+00 -4.0502954e+00]\n",
      " ...\n",
      " [-1.9231905e+00 -1.8298882e+00 -3.3756726e+00 ...  3.9076946e+00\n",
      "  -1.2466526e+00 -2.6789379e+00]\n",
      " [-3.3067825e+00 -2.9341328e+00 -4.1260972e+00 ... -3.4774914e+00\n",
      "  -1.7599293e+00  3.7172437e+00]\n",
      " [-1.9785997e+00 -1.8607502e+00 -2.6734376e+00 ... -2.2708690e+00\n",
      "  -1.1353474e+00  4.5993919e+00]]\n"
     ]
    },
    {
     "name": "stderr",
     "output_type": "stream",
     "text": [
      "100%|█████████████████████████████████████████████████████████████| 924/924 [00:37<00:00, 24.47it/s]\n"
     ]
    },
    {
     "name": "stdout",
     "output_type": "stream",
     "text": [
      "valid:  f1: 0.28048, precision: 0.36377, recall: 0.22823, best f1: 0.28048\n",
      "\n",
      "Epoch 5/20\n",
      "917/917 [==============================] - 439s 478ms/step - loss: 5.8410 - sparse_accuracy: 0.9127\n"
     ]
    },
    {
     "name": "stderr",
     "output_type": "stream",
     "text": [
      "  0%|▏                                                              | 3/924 [00:00<00:34, 26.80it/s]"
     ]
    },
    {
     "name": "stdout",
     "output_type": "stream",
     "text": [
      "[[ 1.3299801  -0.21908398 -8.420827   ... -8.045175   -1.603891\n",
      "  -8.108522  ]\n",
      " [-1.8172913  -7.4922967   3.0665772  ... -5.22649    -3.1557155\n",
      "  -5.0807886 ]\n",
      " [-2.1952736  -6.81525     3.3060858  ... -4.4372635  -2.4970133\n",
      "  -4.462444  ]\n",
      " ...\n",
      " [-2.1095278  -2.1469252  -3.6607792  ...  3.9553223  -1.5427891\n",
      "  -3.1273227 ]\n",
      " [-3.1603277  -3.3858764  -4.4361763  ... -3.8863204  -2.1666412\n",
      "   3.7478275 ]\n",
      " [-2.040942   -2.3732061  -3.019085   ... -2.6993623  -1.5033923\n",
      "   4.786672  ]]\n"
     ]
    },
    {
     "name": "stderr",
     "output_type": "stream",
     "text": [
      "100%|█████████████████████████████████████████████████████████████| 924/924 [00:37<00:00, 24.61it/s]\n"
     ]
    },
    {
     "name": "stdout",
     "output_type": "stream",
     "text": [
      "valid:  f1: 0.25882, precision: 0.34108, recall: 0.20852, best f1: 0.28048\n",
      "\n",
      "Epoch 6/20\n",
      "917/917 [==============================] - 437s 477ms/step - loss: 4.6735 - sparse_accuracy: 0.9182\n"
     ]
    },
    {
     "name": "stderr",
     "output_type": "stream",
     "text": [
      "  0%|▏                                                              | 3/924 [00:00<00:45, 20.23it/s]"
     ]
    },
    {
     "name": "stdout",
     "output_type": "stream",
     "text": [
      "[[ 1.3787911  -0.20897937 -8.709315   ... -8.405084   -1.2236592\n",
      "  -8.451085  ]\n",
      " [-2.0156496  -8.289669    3.2743607  ... -5.584437   -3.5408165\n",
      "  -5.418037  ]\n",
      " [-1.9996628  -7.666913    3.1783583  ... -4.744669   -2.7386873\n",
      "  -4.768776  ]\n",
      " ...\n",
      " [-2.0216525  -2.373504   -3.8365521  ...  4.155541   -1.7787836\n",
      "  -3.4659503 ]\n",
      " [-2.8427186  -3.770364   -4.685998   ... -4.1971292  -2.6489632\n",
      "   3.9381692 ]\n",
      " [-1.9047186  -2.6418931  -3.255541   ... -3.0323498  -2.0544188\n",
      "   4.9925976 ]]\n"
     ]
    },
    {
     "name": "stderr",
     "output_type": "stream",
     "text": [
      "100%|█████████████████████████████████████████████████████████████| 924/924 [00:38<00:00, 23.79it/s]\n"
     ]
    },
    {
     "name": "stdout",
     "output_type": "stream",
     "text": [
      "valid:  f1: 0.28970, precision: 0.34929, recall: 0.24748, best f1: 0.28970\n",
      "\n",
      "Epoch 7/20\n",
      "917/917 [==============================] - 438s 478ms/step - loss: 3.8781 - sparse_accuracy: 0.9214\n"
     ]
    },
    {
     "name": "stderr",
     "output_type": "stream",
     "text": [
      "  0%|▎                                                              | 4/924 [00:00<00:25, 35.72it/s]"
     ]
    },
    {
     "name": "stdout",
     "output_type": "stream",
     "text": [
      "[[ 1.4877075  -0.27405363 -9.005846   ... -8.717265   -1.2623471\n",
      "  -8.8144655 ]\n",
      " [-1.9309504  -9.083296    3.060159   ... -5.9119515  -3.9207256\n",
      "  -5.7639246 ]\n",
      " [-2.171863   -8.37776     3.3179348  ... -5.0136733  -3.0379624\n",
      "  -5.1081176 ]\n",
      " ...\n",
      " [-1.9215442  -2.6245816  -3.999772   ...  4.2195287  -2.0119662\n",
      "  -3.6835709 ]\n",
      " [-2.9929767  -4.2711005  -4.9528584  ... -4.4471946  -3.3147054\n",
      "   4.0194416 ]\n",
      " [-1.8466868  -3.0040777  -3.5249176  ... -3.2279587  -2.6002035\n",
      "   5.0259476 ]]\n"
     ]
    },
    {
     "name": "stderr",
     "output_type": "stream",
     "text": [
      "100%|█████████████████████████████████████████████████████████████| 924/924 [00:37<00:00, 24.89it/s]\n"
     ]
    },
    {
     "name": "stdout",
     "output_type": "stream",
     "text": [
      "valid:  f1: 0.28438, precision: 0.32622, recall: 0.25206, best f1: 0.28970\n",
      "\n",
      "Epoch 8/20\n",
      "917/917 [==============================] - 783s 854ms/step - loss: 3.2055 - sparse_accuracy: 0.9252\n"
     ]
    },
    {
     "name": "stderr",
     "output_type": "stream",
     "text": [
      "  0%|▏                                                              | 3/924 [00:00<00:37, 24.60it/s]"
     ]
    },
    {
     "name": "stdout",
     "output_type": "stream",
     "text": [
      "[[ 1.5798455  -0.33062032 -9.305302   ... -8.996303   -1.3072288\n",
      "  -9.133093  ]\n",
      " [-2.2397046  -9.8519125   3.1705947  ... -6.293407   -4.290552\n",
      "  -6.094143  ]\n",
      " [-1.9802519  -9.022531    3.3146877  ... -5.313903   -3.2976158\n",
      "  -5.3827977 ]\n",
      " ...\n",
      " [-2.1191955  -3.044171   -4.206109   ...  3.9214995  -2.2388537\n",
      "  -3.9207697 ]\n",
      " [-2.8588488  -4.788145   -5.2248006  ... -4.692739   -3.962575\n",
      "   3.7949903 ]\n",
      " [-2.0927732  -3.398848   -3.7730007  ... -3.4648829  -3.2468607\n",
      "   4.9211135 ]]\n"
     ]
    },
    {
     "name": "stderr",
     "output_type": "stream",
     "text": [
      "100%|█████████████████████████████████████████████████████████████| 924/924 [00:33<00:00, 27.69it/s]\n"
     ]
    },
    {
     "name": "stdout",
     "output_type": "stream",
     "text": [
      "valid:  f1: 0.29840, precision: 0.32749, recall: 0.27406, best f1: 0.29840\n",
      "\n",
      "Epoch 9/20\n",
      "917/917 [==============================] - 439s 479ms/step - loss: 2.8402 - sparse_accuracy: 0.9273\n"
     ]
    },
    {
     "name": "stderr",
     "output_type": "stream",
     "text": [
      "  0%|▏                                                              | 3/924 [00:00<00:34, 26.84it/s]"
     ]
    },
    {
     "name": "stdout",
     "output_type": "stream",
     "text": [
      "[[  1.6337192   -0.27513224  -9.614716   ...  -9.2893915   -1.3474798\n",
      "   -9.389833  ]\n",
      " [ -2.0308404  -10.575156     2.9505916  ...  -6.6442027   -4.686384\n",
      "   -6.4169884 ]\n",
      " [ -2.182154    -9.594117     3.2963614  ...  -5.5644383   -3.6171906\n",
      "   -5.657477  ]\n",
      " ...\n",
      " [ -2.1017506   -3.2727804   -4.3820224  ...   4.1741967   -2.4732122\n",
      "   -4.081771  ]\n",
      " [ -2.9713244   -5.2358866   -5.5060163  ...  -4.960462    -4.9522953\n",
      "    3.826364  ]\n",
      " [ -2.069483    -3.7847319   -3.9643347  ...  -3.7131662   -3.7324913\n",
      "    5.308712  ]]\n"
     ]
    },
    {
     "name": "stderr",
     "output_type": "stream",
     "text": [
      "100%|█████████████████████████████████████████████████████████████| 924/924 [00:36<00:00, 25.56it/s]\n"
     ]
    },
    {
     "name": "stdout",
     "output_type": "stream",
     "text": [
      "valid:  f1: 0.30000, precision: 0.31716, recall: 0.28460, best f1: 0.30000\n",
      "\n",
      "Epoch 10/20\n",
      "917/917 [==============================] - 444s 484ms/step - loss: 2.4744 - sparse_accuracy: 0.9276\n"
     ]
    },
    {
     "name": "stderr",
     "output_type": "stream",
     "text": [
      "  0%|▏                                                              | 3/924 [00:00<00:31, 28.79it/s]"
     ]
    },
    {
     "name": "stdout",
     "output_type": "stream",
     "text": [
      "[[  1.6982914   -0.39623377  -9.905809   ...  -9.610903    -1.5189573\n",
      "   -9.778804  ]\n",
      " [ -2.1518323  -11.09383      3.0131109  ...  -6.9666996   -5.122014\n",
      "   -6.8185024 ]\n",
      " [ -2.0849411  -10.155116     3.2029266  ...  -5.8128      -3.863729\n",
      "   -5.932049  ]\n",
      " ...\n",
      " [ -2.0391958   -3.5436409   -4.6697717  ...   4.193295    -2.6684978\n",
      "   -4.3525524 ]\n",
      " [ -3.2744296   -5.646933    -5.7627726  ...  -5.2122803   -5.4027343\n",
      "    3.9099739 ]\n",
      " [ -1.996643    -4.131103    -4.210791   ...  -3.8873606   -4.123131\n",
      "    4.9421377 ]]\n"
     ]
    },
    {
     "name": "stderr",
     "output_type": "stream",
     "text": [
      "100%|█████████████████████████████████████████████████████████████| 924/924 [00:38<00:00, 23.93it/s]\n"
     ]
    },
    {
     "name": "stdout",
     "output_type": "stream",
     "text": [
      "valid:  f1: 0.30286, precision: 0.34568, recall: 0.26948, best f1: 0.30286\n",
      "\n",
      "Epoch 11/20\n",
      "917/917 [==============================] - 439s 479ms/step - loss: 2.1850 - sparse_accuracy: 0.9268\n"
     ]
    },
    {
     "name": "stderr",
     "output_type": "stream",
     "text": [
      "  0%|▏                                                              | 3/924 [00:00<00:43, 20.94it/s]"
     ]
    },
    {
     "name": "stdout",
     "output_type": "stream",
     "text": [
      "[[  1.735972    -0.53783053 -10.295292   ...  -9.900763    -1.9396548\n",
      "   -9.966688  ]\n",
      " [ -2.0264673  -11.519272     2.7570028  ...  -7.2980604   -5.4879475\n",
      "   -7.0519276 ]\n",
      " [ -2.3173213  -10.607545     3.4579244  ...  -6.0758543   -4.1023717\n",
      "   -6.132292  ]\n",
      " ...\n",
      " [ -1.9701363   -3.8670905   -4.873645   ...   4.281724    -2.88998\n",
      "   -4.468183  ]\n",
      " [ -3.064637    -6.1696663   -6.098697   ...  -5.4507294   -5.742419\n",
      "    3.0409293 ]\n",
      " [ -2.864917    -4.350083    -4.477738   ...  -4.0643525   -4.7792892\n",
      "    4.5688496 ]]\n"
     ]
    },
    {
     "name": "stderr",
     "output_type": "stream",
     "text": [
      "100%|█████████████████████████████████████████████████████████████| 924/924 [00:37<00:00, 24.64it/s]\n"
     ]
    },
    {
     "name": "stdout",
     "output_type": "stream",
     "text": [
      "valid:  f1: 0.29375, precision: 0.34017, recall: 0.25848, best f1: 0.30286\n",
      "\n",
      "Epoch 12/20\n",
      "917/917 [==============================] - 440s 479ms/step - loss: 2.0214 - sparse_accuracy: 0.9286\n"
     ]
    },
    {
     "name": "stderr",
     "output_type": "stream",
     "text": [
      "  0%|▏                                                              | 3/924 [00:00<00:43, 21.00it/s]"
     ]
    },
    {
     "name": "stdout",
     "output_type": "stream",
     "text": [
      "[[  1.7969514   -0.61713517 -10.646191   ... -10.354763    -1.7523326\n",
      "  -10.190156  ]\n",
      " [ -2.0557396  -12.025128     2.657006   ...  -7.7294593   -5.863114\n",
      "   -7.3273664 ]\n",
      " [ -2.3668923  -11.157282     3.387375   ...  -6.454791    -4.65259\n",
      "   -6.3493304 ]\n",
      " ...\n",
      " [ -2.0509353   -4.2806654   -5.174457   ...   4.288913    -3.2679489\n",
      "   -4.69495   ]\n",
      " [ -3.4680867   -6.705325    -6.4537463  ...  -5.835515    -6.2038183\n",
      "    3.7261004 ]\n",
      " [ -2.181439    -4.8871703   -4.710406   ...  -4.3706865   -5.0849037\n",
      "    5.270226  ]]\n"
     ]
    },
    {
     "name": "stderr",
     "output_type": "stream",
     "text": [
      "100%|█████████████████████████████████████████████████████████████| 924/924 [00:39<00:00, 23.66it/s]\n"
     ]
    },
    {
     "name": "stdout",
     "output_type": "stream",
     "text": [
      "valid:  f1: 0.29439, precision: 0.36524, recall: 0.24656, best f1: 0.30286\n",
      "\n",
      "Epoch 13/20\n",
      "917/917 [==============================] - 456s 497ms/step - loss: 1.8642 - sparse_accuracy: 0.9325\n"
     ]
    },
    {
     "name": "stderr",
     "output_type": "stream",
     "text": [
      "  0%|▎                                                              | 4/924 [00:00<00:29, 31.72it/s]"
     ]
    },
    {
     "name": "stdout",
     "output_type": "stream",
     "text": [
      "[[  1.8045707   -0.39789018 -10.94303    ... -10.686962    -1.7797935\n",
      "  -10.510605  ]\n",
      " [ -1.9389377  -12.851116     2.8010051  ...  -8.17005     -6.2435074\n",
      "   -7.672593  ]\n",
      " [ -2.2801945  -11.728626     3.3276224  ...  -6.8353405   -4.8979955\n",
      "   -6.692152  ]\n",
      " ...\n",
      " [ -1.9766654   -4.6696253   -5.3911324  ...   4.1758747   -3.4852374\n",
      "   -4.9137993 ]\n",
      " [ -3.5573127   -7.1238      -6.748237   ...  -6.088022    -6.6025968\n",
      "    3.8313808 ]\n",
      " [ -2.0769365   -5.5602694   -4.9883623  ...  -4.723197    -5.497958\n",
      "    5.0235395 ]]\n"
     ]
    },
    {
     "name": "stderr",
     "output_type": "stream",
     "text": [
      "100%|█████████████████████████████████████████████████████████████| 924/924 [00:39<00:00, 20.64it/s]\n"
     ]
    },
    {
     "name": "stdout",
     "output_type": "stream",
     "text": [
      "valid:  f1: 0.30239, precision: 0.30950, recall: 0.29560, best f1: 0.30286\n",
      "\n",
      "Epoch 14/20\n",
      "917/917 [==============================] - 454s 495ms/step - loss: 1.7897 - sparse_accuracy: 0.9301\n"
     ]
    },
    {
     "name": "stderr",
     "output_type": "stream",
     "text": [
      "  0%|▎                                                              | 4/924 [00:00<00:27, 33.32it/s]"
     ]
    },
    {
     "name": "stdout",
     "output_type": "stream",
     "text": [
      "[[  1.9028988   -0.45873275 -11.316169   ... -10.948342    -1.6645061\n",
      "  -10.88871   ]\n",
      " [ -2.1476657  -13.376251     2.8675656  ...  -8.511649    -6.60386\n",
      "   -8.066907  ]\n",
      " [ -2.1554894  -12.143414     3.2868686  ...  -7.1978483   -5.288984\n",
      "   -7.2391934 ]\n",
      " ...\n",
      " [ -2.1455994   -5.0363727   -5.7458997  ...   3.9095073   -4.0142126\n",
      "   -5.235547  ]\n",
      " [ -3.221171    -7.5248423   -7.0662003  ...  -6.326501    -6.963765\n",
      "    3.6716487 ]\n",
      " [ -2.238952    -6.062776    -5.325446   ...  -4.9670296   -5.9692655\n",
      "    4.9752746 ]]\n"
     ]
    },
    {
     "name": "stderr",
     "output_type": "stream",
     "text": [
      "100%|█████████████████████████████████████████████████████████████| 924/924 [00:35<00:00, 26.13it/s]\n"
     ]
    },
    {
     "name": "stdout",
     "output_type": "stream",
     "text": [
      "valid:  f1: 0.28092, precision: 0.38028, recall: 0.22273, best f1: 0.30286\n",
      "\n",
      "Epoch 15/20\n",
      "917/917 [==============================] - 453s 494ms/step - loss: 1.7313 - sparse_accuracy: 0.9273\n"
     ]
    },
    {
     "name": "stderr",
     "output_type": "stream",
     "text": [
      "  0%|▏                                                              | 3/924 [00:00<00:40, 22.50it/s]"
     ]
    },
    {
     "name": "stdout",
     "output_type": "stream",
     "text": [
      "[[  1.9917305  -0.4702053 -11.641244  ... -11.267087   -2.0440636\n",
      "  -11.209304 ]\n",
      " [ -2.0803251 -13.787136    2.7606583 ...  -9.011381   -7.0066833\n",
      "   -8.38197  ]\n",
      " [ -2.2149315 -12.833371    3.488381  ...  -7.658797   -5.601247\n",
      "   -7.536548 ]\n",
      " ...\n",
      " [ -1.8470577  -5.6859236  -6.154929  ...   4.3388596  -4.4349055\n",
      "   -5.5131154]\n",
      " [ -3.3361106  -7.8890266  -7.445099  ...  -6.717166   -7.947616\n",
      "    3.2318766]\n",
      " [ -2.6786056  -6.231654   -5.6900425 ...  -5.5930915  -7.1915784\n",
      "    4.6710176]]\n"
     ]
    },
    {
     "name": "stderr",
     "output_type": "stream",
     "text": [
      "100%|█████████████████████████████████████████████████████████████| 924/924 [00:35<00:00, 25.93it/s]\n"
     ]
    },
    {
     "name": "stdout",
     "output_type": "stream",
     "text": [
      "valid:  f1: 0.28557, precision: 0.32627, recall: 0.25390, best f1: 0.30286\n",
      "\n",
      "Epoch 16/20\n",
      "917/917 [==============================] - 454s 496ms/step - loss: 1.6092 - sparse_accuracy: 0.9261\n"
     ]
    },
    {
     "name": "stderr",
     "output_type": "stream",
     "text": [
      "  0%|▏                                                              | 3/924 [00:00<00:31, 28.93it/s]"
     ]
    },
    {
     "name": "stdout",
     "output_type": "stream",
     "text": [
      "[[  1.9840468  -0.4713223 -11.983125  ... -11.610361   -1.7191252\n",
      "  -11.804956 ]\n",
      " [ -1.9015917 -14.305462    2.6737022 ...  -9.439193   -7.4732404\n",
      "   -8.7933655]\n",
      " [ -2.311071  -13.278741    3.3341568 ...  -8.133757   -6.062527\n",
      "   -7.863464 ]\n",
      " ...\n",
      " [ -2.2832334  -6.3004184  -6.483438  ...   3.9446814  -4.792048\n",
      "   -5.8427553]\n",
      " [ -3.4459686  -8.374386   -7.805551  ...  -7.08021    -8.187828\n",
      "    3.723791 ]\n",
      " [ -2.1874034  -6.510198   -6.144748  ...  -5.846279   -7.352529\n",
      "    4.776013 ]]\n"
     ]
    },
    {
     "name": "stderr",
     "output_type": "stream",
     "text": [
      "100%|█████████████████████████████████████████████████████████████| 924/924 [00:36<00:00, 25.67it/s]\n"
     ]
    },
    {
     "name": "stdout",
     "output_type": "stream",
     "text": [
      "valid:  f1: 0.30286, precision: 0.33170, recall: 0.27864, best f1: 0.30286\n",
      "\n",
      "Epoch 17/20\n",
      "917/917 [==============================] - 451s 492ms/step - loss: 1.5083 - sparse_accuracy: 0.9284\n"
     ]
    },
    {
     "name": "stderr",
     "output_type": "stream",
     "text": [
      "  0%|▏                                                              | 3/924 [00:00<00:45, 20.36it/s]"
     ]
    },
    {
     "name": "stdout",
     "output_type": "stream",
     "text": [
      "[[  1.9661413  -0.4777785 -12.372258  ... -11.881743   -2.313898\n",
      "  -12.039671 ]\n",
      " [ -2.1156664 -14.787701    2.7952106 ...  -9.744407   -8.123478\n",
      "   -9.270411 ]\n",
      " [ -2.2412739 -13.716518    3.3420575 ...  -8.523955   -6.3903193\n",
      "   -8.288313 ]\n",
      " ...\n",
      " [ -2.2293983  -6.5756974  -6.9998503 ...   3.8921485  -5.1925244\n",
      "   -6.248058 ]\n",
      " [ -3.638712   -8.720998   -8.114376  ...  -7.308981   -8.452308\n",
      "    3.1383514]\n",
      " [ -2.774918   -6.743846   -6.5998926 ...  -6.146951   -7.4294167\n",
      "    4.5699844]]\n"
     ]
    },
    {
     "name": "stderr",
     "output_type": "stream",
     "text": [
      "100%|█████████████████████████████████████████████████████████████| 924/924 [00:40<00:00, 22.71it/s]\n"
     ]
    },
    {
     "name": "stdout",
     "output_type": "stream",
     "text": [
      "valid:  f1: 0.30141, precision: 0.33483, recall: 0.27406, best f1: 0.30286\n",
      "\n",
      "Epoch 18/20\n",
      "917/917 [==============================] - 454s 495ms/step - loss: 1.4203 - sparse_accuracy: 0.9274\n"
     ]
    },
    {
     "name": "stderr",
     "output_type": "stream",
     "text": [
      "  0%|▏                                                              | 3/924 [00:00<00:44, 20.86it/s]"
     ]
    },
    {
     "name": "stdout",
     "output_type": "stream",
     "text": [
      "[[  2.0134938  -0.6227966 -12.821407  ... -12.380427   -1.8098131\n",
      "  -12.319323 ]\n",
      " [ -2.25743   -15.147877    2.7930715 ... -10.288027   -8.509387\n",
      "   -9.870746 ]\n",
      " [ -2.1868024 -14.321339    3.3058176 ...  -9.049695   -6.7583966\n",
      "   -8.667436 ]\n",
      " ...\n",
      " [ -2.260577   -7.0271645  -7.5197315 ...   4.2839985  -5.603831\n",
      "   -6.6885986]\n",
      " [ -3.239602   -9.21421    -8.515975  ...  -7.7842565  -8.667337\n",
      "    3.3938956]\n",
      " [ -2.5248156  -7.059108   -6.9312534 ...  -6.5863433  -7.5974817\n",
      "    4.823238 ]]\n"
     ]
    },
    {
     "name": "stderr",
     "output_type": "stream",
     "text": [
      "100%|█████████████████████████████████████████████████████████████| 924/924 [00:36<00:00, 25.39it/s]\n"
     ]
    },
    {
     "name": "stdout",
     "output_type": "stream",
     "text": [
      "valid:  f1: 0.30801, precision: 0.35779, recall: 0.27039, best f1: 0.30801\n",
      "\n",
      "Epoch 19/20\n",
      "917/917 [==============================] - 453s 494ms/step - loss: 1.4075 - sparse_accuracy: 0.9326\n"
     ]
    },
    {
     "name": "stderr",
     "output_type": "stream",
     "text": [
      "  0%|▏                                                              | 3/924 [00:00<00:31, 29.62it/s]"
     ]
    },
    {
     "name": "stdout",
     "output_type": "stream",
     "text": [
      "[[  2.027924   -0.6341985 -13.2279    ... -12.852918   -1.5407134\n",
      "  -12.710935 ]\n",
      " [ -2.1313295 -15.7805195   2.7831123 ... -10.8369465  -8.767515\n",
      "  -10.289387 ]\n",
      " [ -2.3048732 -14.7248745   3.3449612 ...  -9.69872    -7.2071733\n",
      "   -9.107626 ]\n",
      " ...\n",
      " [ -2.2895634  -7.656612   -7.9519916 ...   4.088632   -6.131573\n",
      "   -7.12072  ]\n",
      " [ -3.2149556  -9.663831   -8.879732  ...  -8.1939945  -9.330909\n",
      "    3.7025163]\n",
      " [ -2.2182763  -7.7270026  -7.259561  ...  -6.871442   -7.872686\n",
      "    4.8529406]]\n"
     ]
    },
    {
     "name": "stderr",
     "output_type": "stream",
     "text": [
      "100%|█████████████████████████████████████████████████████████████| 924/924 [00:37<00:00, 24.46it/s]\n"
     ]
    },
    {
     "name": "stdout",
     "output_type": "stream",
     "text": [
      "valid:  f1: 0.29468, precision: 0.35108, recall: 0.25390, best f1: 0.30801\n",
      "\n",
      "Epoch 20/20\n",
      "917/917 [==============================] - 454s 495ms/step - loss: 1.3395 - sparse_accuracy: 0.9328\n"
     ]
    },
    {
     "name": "stderr",
     "output_type": "stream",
     "text": [
      "  0%|▏                                                              | 3/924 [00:00<00:43, 21.05it/s]"
     ]
    },
    {
     "name": "stdout",
     "output_type": "stream",
     "text": [
      "[[  2.0307913   -0.76045156 -13.647878   ... -13.254457    -1.5992064\n",
      "  -12.981079  ]\n",
      " [ -2.151699   -16.301424     2.5316417  ... -11.226418    -9.12488\n",
      "  -10.706362  ]\n",
      " [ -2.4679234  -15.186027     3.3857627  ... -10.167718    -7.6980066\n",
      "   -9.621289  ]\n",
      " ...\n",
      " [ -2.4564052   -8.229192    -8.503039   ...   3.9786687   -6.4662094\n",
      "   -7.556274  ]\n",
      " [ -3.6196601  -10.123378    -9.310988   ...  -8.622008    -9.791118\n",
      "    3.8982155 ]\n",
      " [ -2.0248692   -8.024343    -7.5935597  ...  -7.13472     -8.346859\n",
      "    5.2333    ]]\n"
     ]
    },
    {
     "name": "stderr",
     "output_type": "stream",
     "text": [
      "100%|█████████████████████████████████████████████████████████████| 924/924 [00:34<00:00, 26.88it/s]"
     ]
    },
    {
     "name": "stdout",
     "output_type": "stream",
     "text": [
      "valid:  f1: 0.29259, precision: 0.36890, recall: 0.24244, best f1: 0.30801\n",
      "\n"
     ]
    },
    {
     "name": "stderr",
     "output_type": "stream",
     "text": [
      "\n"
     ]
    }
   ],
   "source": [
    "#!/usr/bin/env python\n",
    "# coding: utf-8\n",
    "\n",
    "# # 读取数据\n",
    "\n",
    "# In[1]:\n",
    "\n",
    "\n",
    "data=open(\"RAMS_1.0/data/train.jsonlines\").readlines()+open(\"RAMS_1.0/data/dev.jsonlines\").readlines()\n",
    "\n",
    "\n",
    "# In[2]:\n",
    "\n",
    "\n",
    "import glob\n",
    "D=[]\n",
    "categories = set()\n",
    "for i in data:\n",
    "    tmp=eval(i)\n",
    "    tmpsentence=[]\n",
    "    d=[]\n",
    "    \n",
    "    for j in tmp[\"sentences\"]:\n",
    "        tmpsentence+=j\n",
    "    \n",
    "    d.append(tmpsentence)\n",
    "    for k in tmp[\"ent_spans\"]:\n",
    "        startidx=len(\" \".join(d[0][:k[0]]))+1\n",
    "        endidx=startidx+len(\" \".join(d[0][k[0]:k[1]+1]))\n",
    "        d.append([startidx,endidx-1,k[2][0][0][11:]])\n",
    "        categories.add(k[2][0][0][11:])\n",
    "#     if len(d)>1:\n",
    "    D.append(d)\n",
    "#     else:\n",
    "#         print (1)\n",
    "categories = list(sorted(categories))\n",
    "\n",
    "\n",
    "# In[3]:\n",
    "\n",
    "\n",
    "# import glob\n",
    "# D=[]\n",
    "# categories = set()\n",
    "# for i in data:\n",
    "#     tmp=eval(i)\n",
    "#     tmpsentence=[]\n",
    "#     d=[]\n",
    "    \n",
    "#     for j in tmp[\"sentences\"]:\n",
    "#         tmpsentence+=j\n",
    "    \n",
    "#     d.append(tmpsentence)\n",
    "#     for k in tmp[\"ent_spans\"]:\n",
    "#         startidx=len(\" \".join(d[0][:k[0]]))+1\n",
    "#         endidx=startidx+len(\" \".join(d[0][k[0]:k[1]+1]))\n",
    "#         d.append([startidx,endidx-1,k[2][0][0][11:]])\n",
    "#         categories.add(k[2][0][0][11:])\n",
    "#     if len(d)>1:\n",
    "#          D.append(d)\n",
    "#     else:\n",
    "#         print (1)\n",
    "# categories = list(sorted(categories))\n",
    "\n",
    "\n",
    "# In[4]:\n",
    "\n",
    "\n",
    "import numpy as np\n",
    "from bert4keras.backend import keras, K\n",
    "from bert4keras.models import build_transformer_model\n",
    "from bert4keras.tokenizers import Tokenizer\n",
    "from bert4keras.optimizers import Adam\n",
    "from bert4keras.snippets import sequence_padding, DataGenerator\n",
    "from bert4keras.snippets import open, ViterbiDecoder, to_array\n",
    "from bert4keras.layers import ConditionalRandomField\n",
    "from keras.layers import Dense\n",
    "from keras.models import Model\n",
    "from tqdm import tqdm\n",
    "\n",
    "\n",
    "# # 读取模型\n",
    "\n",
    "# In[5]:\n",
    "\n",
    "\n",
    "maxlen = 512\n",
    "epochs = 10\n",
    "batch_size =8\n",
    "bert_layers = 12\n",
    "learning_rate = 2e-5  # bert_layers越小，学习率应该要越大\n",
    "crf_lr_multiplier = 1000  # 必要时扩大CRF层的学习率\n",
    "# categories = set()\n",
    "\n",
    "# bert配置\n",
    "config_path = 'bertmodel/bert_config.json'\n",
    "checkpoint_path = 'bertmodel/bert_model.ckpt'\n",
    "dict_path = 'bertmodel/vocab.txt'\n",
    "\n",
    "\n",
    "# # 划分训练验证集\n",
    "\n",
    "# In[6]:\n",
    "\n",
    "\n",
    "devnum=open(\"RAMS_1.0/data/dev.jsonlines\").readlines()\n",
    "\n",
    "\n",
    "# In[7]:\n",
    "\n",
    "\n",
    "devnum=len(devnum)\n",
    "\n",
    "\n",
    "# In[8]:\n",
    "\n",
    "\n",
    "import numpy as np\n",
    "\n",
    "\n",
    "train_data =D[:-devnum]\n",
    "valid_data = D[-devnum:]\n",
    "\n",
    "\n",
    "# In[9]:\n",
    "\n",
    "\n",
    "valid_data\n",
    "\n",
    "\n",
    "# # 分词器\n",
    "\n",
    "# In[10]:\n",
    "\n",
    "\n",
    "# 建立分词器\n",
    "from bert4keras.snippets import lowercase_and_normalize\n",
    "tokenizer = Tokenizer(dict_path, do_lower_case=True)\n",
    "\n",
    "\n",
    "# In[11]:\n",
    "\n",
    "\n",
    "tokens = tokenizer.tokenize(\"我爱北京天安门112但是lover capcool\", maxlen=maxlen)\n",
    "print (tokens)\n",
    "mapping = tokenizer.rematch('我爱北京天安门112但是lover capcool', tokens)\n",
    "mapping\n",
    "\n",
    "\n",
    "# # 构造模型输入\n",
    "\n",
    "# In[13]:\n",
    "\n",
    "\n",
    "class data_generator(DataGenerator):\n",
    "    \"\"\"数据生成器\n",
    "    \"\"\"\n",
    "    def __iter__(self, random=False):\n",
    "        batch_token_ids, batch_segment_ids, batch_labels = [], [], []\n",
    "        for is_end, d in self.sample(random):\n",
    "            tokens = tokenizer.tokenize(\" \".join(d[0]), maxlen=maxlen)\n",
    "            mapping = tokenizer.rematch(\" \".join(d[0]), tokens)\n",
    "            start_mapping = {j[0]: i for i, j in enumerate(mapping) if j}\n",
    "            end_mapping = {j[-1]: i for i, j in enumerate(mapping) if j}\n",
    "            token_ids = tokenizer.tokens_to_ids(tokens)\n",
    "\n",
    "            segment_ids = [0] * len(token_ids)\n",
    "            labels = np.zeros(len(token_ids))\n",
    "            for start, end, label in d[1:]:\n",
    "                \n",
    "                if start in start_mapping and end in end_mapping:\n",
    "                    start = start_mapping[start]\n",
    "                    end = end_mapping[end]\n",
    "                    labels[start] = categories.index(label) * 2 + 1\n",
    "#                     print (\"start:\",start,categories.index(label) * 2 + 1)\n",
    "                    labels[start + 1:end + 1] = categories.index(label) * 2 + 2\n",
    "#                     print (start + 1,end + 1,categories.index(label) * 2 + 2)\n",
    "            batch_token_ids.append(token_ids)\n",
    "            batch_segment_ids.append(segment_ids)\n",
    "            batch_labels.append(labels)\n",
    "\n",
    "            if len(batch_token_ids) == self.batch_size or is_end:\n",
    "                batch_token_ids = sequence_padding(batch_token_ids)\n",
    "                batch_segment_ids = sequence_padding(batch_segment_ids)\n",
    "                batch_labels = sequence_padding(batch_labels)\n",
    "                yield [batch_token_ids, batch_segment_ids], batch_labels\n",
    "                batch_token_ids, batch_segment_ids, batch_labels = [], [], []\n",
    "\n",
    "\n",
    "# In[14]:\n",
    "\n",
    "\n",
    "model = build_transformer_model(\n",
    "    config_path,\n",
    "    checkpoint_path,\n",
    ")\n",
    "\n",
    "output_layer = 'Transformer-%s-FeedForward-Norm' % (bert_layers - 1)\n",
    "output = model.get_layer(output_layer).output\n",
    "output = Dense(len(categories) * 2 + 1)(output)\n",
    "CRF = ConditionalRandomField(lr_multiplier=crf_lr_multiplier)\n",
    "output = CRF(output)\n",
    "\n",
    "model = Model(model.input, output)\n",
    "model.summary()\n",
    "\n",
    "model.compile(\n",
    "    loss=CRF.sparse_loss,\n",
    "    optimizer=Adam(learning_rate),\n",
    "    metrics=[CRF.sparse_accuracy]\n",
    ")\n",
    "\n",
    "\n",
    "class NamedEntityRecognizer(ViterbiDecoder):\n",
    "    \"\"\"命名实体识别器\n",
    "    \"\"\"\n",
    "    def recognize(self, text):\n",
    "        tokens = tokenizer.tokenize(\" \".join(text), maxlen=512)\n",
    "        mapping = tokenizer.rematch(\" \".join(text), tokens)\n",
    "        token_ids = tokenizer.tokens_to_ids(tokens)\n",
    "        segment_ids = [0] * len(token_ids)\n",
    "        token_ids, segment_ids = to_array([token_ids], [segment_ids])\n",
    "        nodes = model.predict([token_ids, segment_ids])[0]\n",
    "        labels = self.decode(nodes)\n",
    "        entities, starting = [], False\n",
    "        for i, label in enumerate(labels):\n",
    "            if label > 0:\n",
    "                if label % 2 == 1:\n",
    "                    starting = True\n",
    "                    entities.append([[i], categories[(label - 1) // 2]])\n",
    "                elif starting:\n",
    "                    entities[-1][0].append(i)\n",
    "                else:\n",
    "                    starting = False\n",
    "            else:\n",
    "                starting = False\n",
    "        return [(mapping[w[0]][0], mapping[w[-1]][-1], l) for w, l in entities]\n",
    "\n",
    "\n",
    "NER = NamedEntityRecognizer(trans=K.eval(CRF.trans), starts=[0], ends=[0])\n",
    "\n",
    "\n",
    "def evaluate(data):\n",
    "    \"\"\"评测函数\n",
    "    \"\"\"\n",
    "    X, Y, Z = 1e-10, 1e-10, 1e-10\n",
    "    for d in tqdm(data, ncols=100):\n",
    "        R = set(NER.recognize(d[0]))\n",
    "        T = set([tuple(i) for i in d[1:]])\n",
    "        X += len(R & T)\n",
    "        Y += len(R)\n",
    "        Z += len(T)\n",
    "    f1, precision, recall = 2 * X / (Y + Z), X / Y, X / Z\n",
    "    return f1, precision, recall\n",
    "\n",
    "\n",
    "# In[15]:\n",
    "\n",
    "\n",
    "class Evaluator(keras.callbacks.Callback):\n",
    "    \"\"\"评估与保存\n",
    "    \"\"\"\n",
    "    def __init__(self):\n",
    "        self.best_val_f1 = 0\n",
    "\n",
    "    def on_epoch_end(self, epoch, logs=None):\n",
    "        trans = K.eval(CRF.trans)\n",
    "        NER.trans = trans\n",
    "        print(NER.trans)\n",
    "        f1, precision, recall = evaluate(valid_data)\n",
    "        # 保存最优\n",
    "        if f1 >= self.best_val_f1:\n",
    "            self.best_val_f1 = f1\n",
    "            model.save_weights('./best_model.weights')\n",
    "        print(\n",
    "            'valid:  f1: %.5f, precision: %.5f, recall: %.5f, best f1: %.5f\\n' %\n",
    "            (f1, precision, recall, self.best_val_f1)\n",
    "        )\n",
    "#         f1, precision, recall = evaluate(test_data)\n",
    "#         print(\n",
    "#             'test:  f1: %.5f, precision: %.5f, recall: %.5f\\n' %\n",
    "#             (f1, precision, recall)\n",
    "#         )\n",
    "\n",
    "\n",
    "if __name__ == '__main__':\n",
    "\n",
    "    evaluator = Evaluator()\n",
    "    train_generator = data_generator(train_data, batch_size)\n",
    "\n",
    "    model.fit(\n",
    "        train_generator.forfit(),\n",
    "        steps_per_epoch=len(train_generator),\n",
    "        epochs=20,\n",
    "        callbacks=[evaluator]\n",
    "    )\n",
    "\n",
    "else:\n",
    "\n",
    "    model.load_weights('./best_model.weights')\n",
    "    NER.trans = K.eval(CRF.trans)\n",
    "\n",
    "\n",
    "# # 加载最优模型\n",
    "\n",
    "# In[ ]:"
   ]
  },
  {
   "cell_type": "code",
   "execution_count": 2,
   "id": "1037715e",
   "metadata": {},
   "outputs": [],
   "source": [
    "model.load_weights('./best_model.weights')\n",
    "NER.trans = K.eval(CRF.trans)"
   ]
  },
  {
   "cell_type": "code",
   "execution_count": 5,
   "id": "fb7ba7b4",
   "metadata": {},
   "outputs": [
    {
     "name": "stderr",
     "output_type": "stream",
     "text": [
      "100%|█████████████████████████████████████████████████████████████| 924/924 [00:41<00:00, 22.15it/s]"
     ]
    },
    {
     "name": "stdout",
     "output_type": "stream",
     "text": [
      "cate: artifact\n",
      "valid:  f1: 0.32044, precision: 0.37662, recall: 0.27885\n",
      "\n",
      "cate: artifactmoney\n",
      "valid:  f1: 0.00000, precision: 1.00000, recall: 0.00000\n",
      "\n",
      "cate: attacker\n",
      "valid:  f1: 0.33566, precision: 0.38095, recall: 0.30000\n",
      "\n",
      "cate: ballot\n",
      "valid:  f1: 0.00000, precision: 0.00000, recall: 0.00000\n",
      "\n",
      "cate: beneficiary\n",
      "valid:  f1: 0.05660, precision: 0.13043, recall: 0.03614\n",
      "\n",
      "cate: candidate\n",
      "valid:  f1: 0.23529, precision: 0.25000, recall: 0.22222\n",
      "\n",
      "cate: communicator\n",
      "valid:  f1: 0.49242, precision: 0.52000, recall: 0.46763\n",
      "\n",
      "cate: crashobject\n",
      "valid:  f1: 0.00000, precision: 0.00000, recall: 0.00000\n",
      "\n",
      "cate: crime\n",
      "valid:  f1: 0.34146, precision: 0.32558, recall: 0.35897\n",
      "\n",
      "cate: damager\n",
      "valid:  f1: 0.15385, precision: 0.16667, recall: 0.14286\n",
      "\n",
      "cate: damagerdestroyer\n",
      "valid:  f1: 0.13333, precision: 0.14286, recall: 0.12500\n",
      "\n",
      "cate: deceased\n",
      "valid:  f1: 0.80000, precision: 0.66667, recall: 1.00000\n",
      "\n",
      "cate: defendant\n",
      "valid:  f1: 0.37037, precision: 0.40541, recall: 0.34091\n",
      "\n",
      "cate: demonstrator\n",
      "valid:  f1: 0.66667, precision: 1.00000, recall: 0.50000\n",
      "\n",
      "cate: destination\n",
      "valid:  f1: 0.18750, precision: 0.28571, recall: 0.13953\n",
      "\n",
      "cate: destroyer\n",
      "valid:  f1: 0.00000, precision: 0.00000, recall: 0.00000\n",
      "\n",
      "cate: detainee\n",
      "valid:  f1: 0.25806, precision: 0.17391, recall: 0.50000\n",
      "\n",
      "cate: driverpassenger\n",
      "valid:  f1: 0.00000, precision: 1.00000, recall: 0.00000\n",
      "\n",
      "cate: employee\n",
      "valid:  f1: 0.47222, precision: 0.44737, recall: 0.50000\n",
      "\n",
      "cate: executioner\n",
      "valid:  f1: 0.00000, precision: 1.00000, recall: 0.00000\n",
      "\n",
      "cate: extraditer\n",
      "valid:  f1: 0.00000, precision: 1.00000, recall: 0.00000\n",
      "\n",
      "cate: fireexplosionobject\n",
      "valid:  f1: 0.00000, precision: 1.00000, recall: 0.00000\n",
      "\n",
      "cate: founder\n",
      "valid:  f1: 0.00000, precision: 1.00000, recall: 0.00000\n",
      "\n",
      "cate: giver\n",
      "valid:  f1: 0.25000, precision: 0.31579, recall: 0.20690\n",
      "\n",
      "cate: governmentbody\n",
      "valid:  f1: 0.36364, precision: 0.50000, recall: 0.28571\n",
      "\n",
      "cate: gpe\n",
      "valid:  f1: 0.00000, precision: 0.00000, recall: 0.00000\n",
      "\n",
      "cate: granter\n",
      "valid:  f1: 0.00000, precision: 0.00000, recall: 0.00000\n",
      "\n",
      "cate: hidingplace\n",
      "valid:  f1: 1.00000, precision: 1.00000, recall: 1.00000\n",
      "\n",
      "cate: injurer\n",
      "valid:  f1: 0.20339, precision: 0.33333, recall: 0.14634\n",
      "\n",
      "cate: inspectedentity\n",
      "valid:  f1: 0.00000, precision: 0.00000, recall: 0.00000\n",
      "\n",
      "cate: inspector\n",
      "valid:  f1: 0.25000, precision: 1.00000, recall: 0.14286\n",
      "\n",
      "cate: instrument\n",
      "valid:  f1: 0.14159, precision: 0.25000, recall: 0.09877\n",
      "\n",
      "cate: investigator\n",
      "valid:  f1: 0.54545, precision: 0.50000, recall: 0.60000\n",
      "\n",
      "cate: jailer\n",
      "valid:  f1: 0.00000, precision: 0.00000, recall: 0.00000\n",
      "\n",
      "cate: judgecourt\n",
      "valid:  f1: 0.11111, precision: 0.25000, recall: 0.07143\n",
      "\n",
      "cate: killer\n",
      "valid:  f1: 0.21277, precision: 0.25000, recall: 0.18519\n",
      "\n",
      "cate: law\n",
      "valid:  f1: 0.00000, precision: 0.00000, recall: 0.00000\n",
      "\n",
      "cate: manufacturer\n",
      "valid:  f1: 0.25000, precision: 0.40000, recall: 0.18182\n",
      "\n",
      "cate: money\n",
      "valid:  f1: 0.16216, precision: 0.37500, recall: 0.10345\n",
      "\n",
      "cate: monitor\n",
      "valid:  f1: 0.00000, precision: 0.00000, recall: 0.00000\n",
      "\n",
      "cate: monitoredentity\n",
      "valid:  f1: 0.00000, precision: 1.00000, recall: 0.00000\n",
      "\n",
      "cate: observedentity\n",
      "valid:  f1: 0.00000, precision: 1.00000, recall: 0.00000\n",
      "\n",
      "cate: observer\n",
      "valid:  f1: 0.00000, precision: 0.00000, recall: 1.00000\n",
      "\n",
      "cate: origin\n",
      "valid:  f1: 0.17910, precision: 0.27273, recall: 0.13333\n",
      "\n",
      "cate: otherparticipant\n",
      "valid:  f1: 0.00000, precision: 1.00000, recall: 0.00000\n",
      "\n",
      "cate: participant\n",
      "valid:  f1: 0.34310, precision: 0.34454, recall: 0.34167\n",
      "\n",
      "cate: passenger\n",
      "valid:  f1: 0.23810, precision: 0.41667, recall: 0.16667\n",
      "\n",
      "cate: place\n",
      "valid:  f1: 0.37303, precision: 0.40248, recall: 0.34759\n",
      "\n",
      "cate: placeofemployment\n",
      "valid:  f1: 0.20000, precision: 0.21739, recall: 0.18519\n",
      "\n",
      "cate: preventer\n",
      "valid:  f1: 0.32184, precision: 0.40000, recall: 0.26923\n",
      "\n",
      "cate: prosecutor\n",
      "valid:  f1: 0.00000, precision: 0.00000, recall: 0.00000\n",
      "\n",
      "cate: recipient\n",
      "valid:  f1: 0.33766, precision: 0.40881, recall: 0.28761\n",
      "\n",
      "cate: rejecternullifier\n",
      "valid:  f1: 1.00000, precision: 1.00000, recall: 1.00000\n",
      "\n",
      "cate: result\n",
      "valid:  f1: 0.00000, precision: 1.00000, recall: 0.00000\n",
      "\n",
      "cate: retreater\n",
      "valid:  f1: 0.00000, precision: 0.00000, recall: 0.00000\n",
      "\n",
      "cate: spy\n",
      "valid:  f1: 0.31579, precision: 0.42857, recall: 0.25000\n",
      "\n",
      "cate: surrenderer\n",
      "valid:  f1: 0.00000, precision: 1.00000, recall: 0.00000\n",
      "\n",
      "cate: target\n",
      "valid:  f1: 0.30000, precision: 0.32308, recall: 0.28000\n",
      "\n",
      "cate: territoryorfacility\n",
      "valid:  f1: 0.00000, precision: 1.00000, recall: 0.00000\n",
      "\n",
      "cate: transporter\n",
      "valid:  f1: 0.21739, precision: 0.23256, recall: 0.20408\n",
      "\n",
      "cate: vehicle\n",
      "valid:  f1: 0.00000, precision: 0.00000, recall: 0.00000\n",
      "\n",
      "cate: victim\n",
      "valid:  f1: 0.35060, precision: 0.31206, recall: 0.40000\n",
      "\n",
      "cate: violator\n",
      "valid:  f1: 0.00000, precision: 0.00000, recall: 0.00000\n",
      "\n",
      "cate: voter\n",
      "valid:  f1: 0.33333, precision: 0.50000, recall: 0.25000\n",
      "\n",
      "cate: yielder\n",
      "valid:  f1: 0.25000, precision: 0.22222, recall: 0.28571\n",
      "\n",
      "mac f1: 0.2011376057951406\n",
      "mac precision: 0.42965225687679354\n",
      "mac recall: 0.2051638794323296\n"
     ]
    },
    {
     "name": "stderr",
     "output_type": "stream",
     "text": [
      "\n"
     ]
    },
    {
     "data": {
      "text/plain": [
       "(0.3080135734795454, 0.35779260157675213, 0.27039413382221494)"
      ]
     },
     "execution_count": 5,
     "metadata": {},
     "output_type": "execute_result"
    }
   ],
   "source": [
    "evaluate(valid_data)"
   ]
  },
  {
   "cell_type": "code",
   "execution_count": null,
   "id": "077ff1b7",
   "metadata": {},
   "outputs": [],
   "source": [
    "def pre(text):\n",
    "    res=NER.recognize(text)\n",
    "    text=\" \".join(text)\n",
    "    res=[(text[i[0]:i[1]+1],i[2]) for i in res]\n",
    "    return res\n",
    "\n",
    "pre(valid_data[12][0])"
   ]
  }
 ],
 "metadata": {
  "kernelspec": {
   "display_name": "Python 3",
   "language": "python",
   "name": "python3"
  },
  "language_info": {
   "codemirror_mode": {
    "name": "ipython",
    "version": 3
   },
   "file_extension": ".py",
   "mimetype": "text/x-python",
   "name": "python",
   "nbconvert_exporter": "python",
   "pygments_lexer": "ipython3",
   "version": "3.6.8"
  }
 },
 "nbformat": 4,
 "nbformat_minor": 5
}
